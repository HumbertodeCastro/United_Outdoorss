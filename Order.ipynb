{
 "cells": [
  {
   "cell_type": "markdown",
   "metadata": {},
   "source": [
    "## Implementeer elk gemaakt ETL-schema in Python"
   ]
  },
  {
   "cell_type": "markdown",
   "metadata": {},
   "source": [
    "**imports & connection**"
   ]
  },
  {
   "cell_type": "code",
   "execution_count": 27,
   "metadata": {},
   "outputs": [
    {
     "ename": "ModuleNotFoundError",
     "evalue": "No module named 'ace_tools'",
     "output_type": "error",
     "traceback": [
      "\u001b[1;31m---------------------------------------------------------------------------\u001b[0m",
      "\u001b[1;31mModuleNotFoundError\u001b[0m                       Traceback (most recent call last)",
      "Cell \u001b[1;32mIn[27], line 3\u001b[0m\n\u001b[0;32m      1\u001b[0m \u001b[38;5;28;01mimport\u001b[39;00m \u001b[38;5;21;01mpandas\u001b[39;00m \u001b[38;5;28;01mas\u001b[39;00m \u001b[38;5;21;01mpd\u001b[39;00m\n\u001b[0;32m      2\u001b[0m \u001b[38;5;28;01mimport\u001b[39;00m \u001b[38;5;21;01mpyodbc\u001b[39;00m\n\u001b[1;32m----> 3\u001b[0m \u001b[38;5;28;01mimport\u001b[39;00m \u001b[38;5;21;01mace_tools\u001b[39;00m \u001b[38;5;28;01mas\u001b[39;00m \u001b[38;5;21;01mtools\u001b[39;00m\n\u001b[0;32m      4\u001b[0m \u001b[38;5;28;01mfrom\u001b[39;00m \u001b[38;5;21;01mdatetime\u001b[39;00m \u001b[38;5;28;01mimport\u001b[39;00m datetime\n",
      "\u001b[1;31mModuleNotFoundError\u001b[0m: No module named 'ace_tools'"
     ]
    }
   ],
   "source": [
    "import pandas as pd\n",
    "import pyodbc\n",
    "from datetime import datetime"
   ]
  },
  {
   "cell_type": "code",
   "execution_count": 6,
   "metadata": {},
   "outputs": [
    {
     "data": {
      "text/plain": [
       "<pyodbc.Cursor at 0x1f47a9a2030>"
      ]
     },
     "execution_count": 6,
     "metadata": {},
     "output_type": "execute_result"
    }
   ],
   "source": [
    "DB = {'servername': 'LAPTOP-LPE28RPE\\SQLEXPRESS', \n",
    "    'database': 'United_outdoors'}\n",
    "\n",
    "export_conn = pyodbc.connect('DRIVER={SQL Server};SERVER=' + DB['servername'] + \n",
    "                              ';DATABASE=' + DB['database'])\n",
    "\n",
    "export_cursor = export_conn.cursor()\n",
    "export_cursor   "
   ]
  },
  {
   "cell_type": "markdown",
   "metadata": {},
   "source": [
    "**Database connection**"
   ]
  },
  {
   "cell_type": "code",
   "execution_count": 13,
   "metadata": {},
   "outputs": [],
   "source": [
    "\n",
    "Adventure = {\n",
    "    'servername' : 'LAPTOP-LPE28RPE\\SQLEXPRESS',\n",
    "    'database' : 'AdventureWorks2019'\n",
    "}\n",
    "\n",
    "\n",
    "Northwind = {\n",
    "    'servername' : 'LAPTOP-LPE28RPE\\SQLEXPRESS',\n",
    "    'database' : 'Northwind'\n",
    "}\n",
    "\n",
    "access_db_path = r'C:\\Users\\Humberto de Castro\\OneDrive\\Desktop\\SEM4\\AenC\\aenc.accdb'\n",
    "\n",
    "#Connect to AdventureWorks\n",
    "Adventure_conn = pyodbc.connect(f\"DRIVER={{SQL Server}};SERVER={Adventure['servername']};DATABASE={Adventure['database']};Trusted_Connection=yes;\")\n",
    "Adventure_cursor = Adventure_conn.cursor()\n",
    "\n",
    "#Connect to Northwind\n",
    "Northwind_conn = pyodbc.connect(f\"DRIVER={{SQL Server}};SERVER={Northwind['servername']};DATABASE={Northwind['database']};Trusted_Connection=yes;\")\n",
    "Northwind_cursor = Northwind_conn.cursor()\n",
    "\n",
    "#Connect to AenC\n",
    "AenC_conn = pyodbc.connect(f\"DRIVER={{Microsoft Access Driver (*.mdb, *.accdb)}};DBQ={access_db_path};\")\n",
    "\n"
   ]
  },
  {
   "cell_type": "code",
   "execution_count": 25,
   "metadata": {},
   "outputs": [
    {
     "name": "stderr",
     "output_type": "stream",
     "text": [
      "C:\\Users\\Humberto de Castro\\AppData\\Local\\Temp\\ipykernel_7484\\1723358151.py:21: UserWarning: pandas only supports SQLAlchemy connectable (engine/connection) or database string URI or sqlite3 DBAPI2 connection. Other DBAPI2 objects are not tested. Please consider using SQLAlchemy.\n",
      "  dataframes[table_name] = pd.read_sql_query(query, Adventure_conn)\n",
      "C:\\Users\\Humberto de Castro\\AppData\\Local\\Temp\\ipykernel_7484\\1723358151.py:24: UserWarning: pandas only supports SQLAlchemy connectable (engine/connection) or database string URI or sqlite3 DBAPI2 connection. Other DBAPI2 objects are not tested. Please consider using SQLAlchemy.\n",
      "  dataframes[table_name] = pd.read_sql_query(query, Northwind_conn)\n",
      "C:\\Users\\Humberto de Castro\\AppData\\Local\\Temp\\ipykernel_7484\\1723358151.py:27: UserWarning: pandas only supports SQLAlchemy connectable (engine/connection) or database string URI or sqlite3 DBAPI2 connection. Other DBAPI2 objects are not tested. Please consider using SQLAlchemy.\n",
      "  dataframes[table_name] = pd.read_sql_query(query, AenC_conn)\n"
     ]
    }
   ],
   "source": [
    "AdventureWorks_queries = {\n",
    "    'SalesOrderHeader' : 'SELECT * FROM Sales.SalesOrderHeader',\n",
    "    'SalesOrderDetail' : 'SELECT * FROM Sales.SalesOrderDetail'\n",
    "}\n",
    "\n",
    "Northwind_queries = {\n",
    "    'Orders' : 'SELECT * FROM Orders',\n",
    "    'OrderDetails' : 'SELECT * FROM [Order Details]'\n",
    "}\n",
    "\n",
    "AenC_queries = {\n",
    "    'sales_order' : 'SELECT * FROM sales_order',\n",
    "    'sales_order_item' : 'SELECT * FROM sales_order_item'\n",
    "}\n",
    "\n",
    "dataframes = {}\n",
    "\n",
    "# Lees elke tabel in een DataFrame\n",
    "\n",
    "for table_name, query in AdventureWorks_queries.items():\n",
    "    dataframes[table_name] = pd.read_sql_query(query, Adventure_conn)\n",
    "\n",
    "for table_name, query in Northwind_queries.items():\n",
    "    dataframes[table_name] = pd.read_sql_query(query, Northwind_conn)\n",
    "\n",
    "for table_name, query in AenC_queries.items():\n",
    "    dataframes[table_name] = pd.read_sql_query(query, AenC_conn)\n",
    "\n",
    "#als je ik elk tabel als een dataframe/ variabele wil behandelen of aanroepen moet ik dit uitvoeren.\n",
    "for table_name, df in dataframes.items():\n",
    "    globals()[table_name] = df\n"
   ]
  },
  {
   "cell_type": "markdown",
   "metadata": {},
   "source": [
    "### Order"
   ]
  },
  {
   "cell_type": "markdown",
   "metadata": {},
   "source": [
    "**Extract**"
   ]
  },
  {
   "cell_type": "code",
   "execution_count": 26,
   "metadata": {},
   "outputs": [],
   "source": [
    "#eerst horizontaal samenvoegen per database:\n",
    "AdventureWorks_Order = pd.merge(SalesOrderHeader, SalesOrderDetail, on = 'SalesOrderID')\n",
    "Northwind_Order = pd.merge(Orders, OrderDetails, on = 'OrderID')\n",
    "AenC_Order = pd.merge(sales_order, sales_order_item, on = 'id')"
   ]
  },
  {
   "cell_type": "markdown",
   "metadata": {},
   "source": [
    "**Transform**"
   ]
  },
  {
   "cell_type": "markdown",
   "metadata": {},
   "source": [
    "**Check of orderID's conflicten**"
   ]
  },
  {
   "cell_type": "code",
   "execution_count": 29,
   "metadata": {},
   "outputs": [
    {
     "name": "stdout",
     "output_type": "stream",
     "text": [
      "No conflicts found in Order IDs.\n",
      "Empty DataFrame\n",
      "Columns: [Conflicting Order IDs]\n",
      "Index: []\n"
     ]
    }
   ],
   "source": [
    "AdventureWorks_Order.rename(columns={'SalesOrderID': 'OrderID'}, inplace=True)\n",
    "\n",
    "order_order_ids = set(AdventureWorks_Order['OrderID'])\n",
    "order_details_order_ids = set(Northwind_Order['OrderID'])\n",
    "Order_AenC_ids = set(AenC_Order['id'])\n",
    "\n",
    "# Zoek conflicten tussen AdventureWorks en Northwind\n",
    "conflicting_order_ids_1 = order_order_ids.intersection(order_details_order_ids)\n",
    "\n",
    "# Zoek conflicten tussen AdventureWorks en AenC\n",
    "conflicting_order_ids_2 = order_order_ids.intersection(Order_AenC_ids)\n",
    "\n",
    "# Zoek conflicten tussen Northwind en AenC\n",
    "conflicting_order_ids_3 = order_details_order_ids.intersection(Order_AenC_ids)\n",
    "\n",
    "# Combineer alle conflicterende ID's\n",
    "all_conflicting_order_ids = conflicting_order_ids_1.union(conflicting_order_ids_2).union(conflicting_order_ids_3)\n",
    "\n",
    "if all_conflicting_order_ids:\n",
    "    print(\"Conflicting Order IDs found:\", all_conflicting_order_ids)\n",
    "else:\n",
    "    print(\"No conflicts found in Order IDs.\")\n",
    "\n",
    "# Display the conflicting Order IDs (if any)\n",
    "conflicts_df = pd.DataFrame(list(all_conflicting_order_ids), columns=['Conflicting Order IDs'])\n",
    "print(conflicts_df)"
   ]
  },
  {
   "cell_type": "code",
   "execution_count": null,
   "metadata": {},
   "outputs": [],
   "source": [
    "# Zorg dat alle kolommen etc matchen voordat je ze verticaal gaat samenvoegen\n",
    "AdventureWorks_Order = AdventureWorks_Order.loc[:, ['SalesOrderID', 'SalesOrderDetailID', 'OrderQty', 'UnitPrice', 'UnitPriceDiscount', 'Order_Date', 'CustomerID', 'EmployeeID', 'ShipMethodID', 'ProductID']]\n",
    "\n",
    "Northwind_Order = Northwind_Order.loc[:, ['OrderID', 'Quantity', 'UnitPrice', 'Discount', 'OrderDate', 'CustomerID', 'EmployeeID', 'ShipMethodID', 'ShipVia', 'ProductID']]\n",
    "\n"
   ]
  }
 ],
 "metadata": {
  "kernelspec": {
   "display_name": "united-outdoors-Ru-VU21r-py3.11",
   "language": "python",
   "name": "python3"
  },
  "language_info": {
   "codemirror_mode": {
    "name": "ipython",
    "version": 3
   },
   "file_extension": ".py",
   "mimetype": "text/x-python",
   "name": "python",
   "nbconvert_exporter": "python",
   "pygments_lexer": "ipython3",
   "version": "3.11.8"
  }
 },
 "nbformat": 4,
 "nbformat_minor": 2
}
